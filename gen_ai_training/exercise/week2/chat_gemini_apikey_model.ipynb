{
  "nbformat": 4,
  "nbformat_minor": 0,
  "metadata": {
    "colab": {
      "provenance": []
    },
    "kernelspec": {
      "name": "python3",
      "display_name": "Python 3"
    },
    "language_info": {
      "name": "python"
    }
  },
  "cells": [
    {
      "cell_type": "code",
      "execution_count": 2,
      "metadata": {
        "id": "8AWsYHK0t835"
      },
      "outputs": [],
      "source": [
        "!pip install -qU langchain-google-genai"
      ]
    },
    {
      "cell_type": "code",
      "source": [
        "from google.colab import userdata\n",
        "import os"
      ],
      "metadata": {
        "id": "DznWQD00uL0f"
      },
      "execution_count": 6,
      "outputs": []
    },
    {
      "cell_type": "code",
      "source": [
        "os.environ['GOOGLE_API_KEY'] = userdata.get('GEMINI_PRO_KEY')"
      ],
      "metadata": {
        "id": "XCIm0oYkuRqM"
      },
      "execution_count": 7,
      "outputs": []
    },
    {
      "cell_type": "code",
      "source": [
        "from langchain_google_genai import ChatGoogleGenerativeAI"
      ],
      "metadata": {
        "id": "-9Iz7wFUulmf"
      },
      "execution_count": 8,
      "outputs": []
    },
    {
      "cell_type": "code",
      "source": [
        "llm = ChatGoogleGenerativeAI(model=\"gemini-pro\", top_k=2, max_output_tokens=100, top_p=0.9, temperature=0.5)"
      ],
      "metadata": {
        "id": "DAVdBVjMvkj9"
      },
      "execution_count": 9,
      "outputs": []
    },
    {
      "cell_type": "code",
      "source": [
        "result = llm.invoke(\"Write a ballad about LangChain\")\n",
        "print(result.content)"
      ],
      "metadata": {
        "colab": {
          "base_uri": "https://localhost:8080/"
        },
        "id": "d_ZWRXmLwNLX",
        "outputId": "345587ef-41dc-4d49-ca93-942cb7924b66"
      },
      "execution_count": 10,
      "outputs": [
        {
          "output_type": "stream",
          "name": "stdout",
          "text": [
            "In realms of code, where knowledge flows,\n",
            "A tale of LangChain, the AI rose.\n",
            "A ballad sung, with verses grand,\n",
            "Of its prowess, a helping hand.\n",
            "\n",
            "In halls of learning, where minds expand,\n",
            "LangChain emerged, a beacon in the land.\n",
            "A tutor wise, with patience deep,\n",
            "Guiding students through knowledge's keep.\n",
            "\n",
            "With every query, it would delve,\n",
            "Into vast archives, where secrets dwell.\n",
            "From ancient tomes\n"
          ]
        }
      ]
    },
    {
      "cell_type": "code",
      "source": [],
      "metadata": {
        "id": "gYgiKFWJwhrC"
      },
      "execution_count": null,
      "outputs": []
    }
  ]
}