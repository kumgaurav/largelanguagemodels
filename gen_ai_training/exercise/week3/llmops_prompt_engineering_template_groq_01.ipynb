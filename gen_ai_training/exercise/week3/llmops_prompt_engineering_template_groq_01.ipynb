{
  "nbformat": 4,
  "nbformat_minor": 0,
  "metadata": {
    "colab": {
      "provenance": []
    },
    "kernelspec": {
      "name": "python3",
      "display_name": "Python 3"
    },
    "language_info": {
      "name": "python"
    }
  },
  "cells": [
    {
      "cell_type": "markdown",
      "source": [
        "## Prompt Engineering Langchain"
      ],
      "metadata": {
        "id": "mE9RlF6vdyRV"
      }
    },
    {
      "cell_type": "code",
      "source": [
        "!pip install -qU langchain langchain-groq"
      ],
      "metadata": {
        "colab": {
          "base_uri": "https://localhost:8080/"
        },
        "id": "36xX0ZV8d0fJ",
        "outputId": "a3245371-29fa-4903-fb0c-94aa620d437d"
      },
      "execution_count": 8,
      "outputs": [
        {
          "output_type": "stream",
          "name": "stdout",
          "text": [
            "\u001b[?25l   \u001b[90m━━━━━━━━━━━━━━━━━━━━━━━━━━━━━━━━━━━━━━━━\u001b[0m \u001b[32m0.0/1.0 MB\u001b[0m \u001b[31m?\u001b[0m eta \u001b[36m-:--:--\u001b[0m\r\u001b[2K   \u001b[91m━━━━━━━━━━━━━━━━━━━━━━━━━━━━━━━━━━━━━━━\u001b[0m\u001b[91m╸\u001b[0m \u001b[32m1.0/1.0 MB\u001b[0m \u001b[31m42.1 MB/s\u001b[0m eta \u001b[36m0:00:01\u001b[0m\r\u001b[2K   \u001b[90m━━━━━━━━━━━━━━━━━━━━━━━━━━━━━━━━━━━━━━━━\u001b[0m \u001b[32m1.0/1.0 MB\u001b[0m \u001b[31m24.7 MB/s\u001b[0m eta \u001b[36m0:00:00\u001b[0m\n",
            "\u001b[?25h\u001b[?25l   \u001b[90m━━━━━━━━━━━━━━━━━━━━━━━━━━━━━━━━━━━━━━━━\u001b[0m \u001b[32m0.0/109.1 kB\u001b[0m \u001b[31m?\u001b[0m eta \u001b[36m-:--:--\u001b[0m\r\u001b[2K   \u001b[90m━━━━━━━━━━━━━━━━━━━━━━━━━━━━━━━━━━━━━━━━\u001b[0m \u001b[32m109.1/109.1 kB\u001b[0m \u001b[31m7.9 MB/s\u001b[0m eta \u001b[36m0:00:00\u001b[0m\n",
            "\u001b[?25h\u001b[?25l   \u001b[90m━━━━━━━━━━━━━━━━━━━━━━━━━━━━━━━━━━━━━━━━\u001b[0m \u001b[32m0.0/411.6 kB\u001b[0m \u001b[31m?\u001b[0m eta \u001b[36m-:--:--\u001b[0m\r\u001b[2K   \u001b[90m━━━━━━━━━━━━━━━━━━━━━━━━━━━━━━━━━━━━━━━━\u001b[0m \u001b[32m411.6/411.6 kB\u001b[0m \u001b[31m23.9 MB/s\u001b[0m eta \u001b[36m0:00:00\u001b[0m\n",
            "\u001b[?25h"
          ]
        }
      ]
    },
    {
      "cell_type": "code",
      "source": [
        "from google.colab import userdata\n",
        "import os"
      ],
      "metadata": {
        "id": "QwPXHJZVjDec"
      },
      "execution_count": 2,
      "outputs": []
    },
    {
      "cell_type": "code",
      "source": [
        "os.environ[\"GROQ_API_KEY\"] = userdata.get(\"GROQ_API_KEY\")"
      ],
      "metadata": {
        "id": "Vp8fweFqjKlU"
      },
      "execution_count": 3,
      "outputs": []
    },
    {
      "cell_type": "code",
      "source": [
        "from langchain import PromptTemplate"
      ],
      "metadata": {
        "id": "buWhM7vfjTaD"
      },
      "execution_count": 4,
      "outputs": []
    },
    {
      "cell_type": "code",
      "source": [
        "prompt_text='''I want you to act as a acting financial advisor for people.\n",
        "In an easy way, explain the basics of {financial_concept}.'''\n",
        "\n",
        "prompt=PromptTemplate(\n",
        "    input_variables=['financial_concept'],\n",
        "    template=prompt_text\n",
        "    )\n",
        "\n",
        "prompt.format(financial_concept='gdp')"
      ],
      "metadata": {
        "colab": {
          "base_uri": "https://localhost:8080/",
          "height": 53
        },
        "id": "CfHTR1uFjZ3m",
        "outputId": "bccd78d5-3325-4403-887b-3d9f9d97a2a5"
      },
      "execution_count": 5,
      "outputs": [
        {
          "output_type": "execute_result",
          "data": {
            "text/plain": [
              "'I want you to act as a acting financial advisor for people.\\nIn an easy way, explain the basics of gdp.'"
            ],
            "application/vnd.google.colaboratory.intrinsic+json": {
              "type": "string"
            }
          },
          "metadata": {},
          "execution_count": 5
        }
      ]
    },
    {
      "cell_type": "code",
      "source": [
        "from langchain_groq import ChatGroq\n",
        "from langchain.chains import LLMChain"
      ],
      "metadata": {
        "id": "rkleNJDUjf-s"
      },
      "execution_count": 9,
      "outputs": []
    },
    {
      "cell_type": "code",
      "source": [
        "llm=ChatGroq(model=\"Llama3-70b-8192\",temperature=0.7,top_p=1,max_tokens=500)\n",
        "chain1=LLMChain(llm=llm,prompt=prompt)"
      ],
      "metadata": {
        "colab": {
          "base_uri": "https://localhost:8080/"
        },
        "id": "Z_awZrq7kJPh",
        "outputId": "13caffb3-8521-4439-f5c2-e916c163f24f"
      },
      "execution_count": 10,
      "outputs": [
        {
          "output_type": "stream",
          "name": "stderr",
          "text": [
            "/usr/local/lib/python3.10/dist-packages/langchain_groq/chat_models.py:364: UserWarning: WARNING! top_p is not default parameter.\n",
            "                    top_p was transferred to model_kwargs.\n",
            "                    Please confirm that top_p is what you intended.\n",
            "  warnings.warn(\n",
            "<ipython-input-10-cdc7073fd47c>:2: LangChainDeprecationWarning: The class `LLMChain` was deprecated in LangChain 0.1.17 and will be removed in 1.0. Use :meth:`~RunnableSequence, e.g., `prompt | llm`` instead.\n",
            "  chain1=LLMChain(llm=llm,prompt=prompt)\n"
          ]
        }
      ]
    },
    {
      "cell_type": "code",
      "source": [
        "chain1.run(\"income tax\")"
      ],
      "metadata": {
        "colab": {
          "base_uri": "https://localhost:8080/",
          "height": 270
        },
        "id": "OakF5Te2n2AN",
        "outputId": "7cce2c41-1b44-41b7-d79d-3aa9bc21bff6"
      },
      "execution_count": 11,
      "outputs": [
        {
          "output_type": "stream",
          "name": "stderr",
          "text": [
            "<ipython-input-11-e4f890bd2d61>:1: LangChainDeprecationWarning: The method `Chain.run` was deprecated in langchain 0.1.0 and will be removed in 1.0. Use :meth:`~invoke` instead.\n",
            "  chain1.run(\"income tax\")\n"
          ]
        },
        {
          "output_type": "execute_result",
          "data": {
            "text/plain": [
              "\"I'd be happy to explain the basics of income tax in a simple and easy-to-understand way.\\n\\n**What is Income Tax?**\\n\\nIncome tax is a type of tax that governments impose on the income or profits earned by individuals and businesses. It's a way for governments to fund public goods and services, such as infrastructure, education, healthcare, and defense.\\n\\n**Who Needs to Pay Income Tax?**\\n\\nAlmost everyone who earns income needs to pay income tax. This includes:\\n\\n* Employees who receive a salary or wages\\n* Self-employed individuals who run their own businesses\\n* Investors who earn income from investments, such as dividends or capital gains\\n* Retirees who receive pension or retirement benefits\\n\\n**How is Income Tax Calculated?**\\n\\nIncome tax is calculated based on your taxable income, which is your total income minus any deductions and exemptions you're eligible for.\\n\\nHere's a simple example:\\n\\nLet's say you earn $50,000 in a year. You're eligible for a standard deduction of $10,000, and you also have a mortgage interest deduction of $5,000. Your taxable income would be:\\n\\n$50,000 (total income) - $10,000 (standard deduction) - $5,000 (mortgage interest deduction) = $35,000 (taxable income)\\n\\n**Tax Brackets**\\n\\nIncome tax rates vary based on your taxable income, and they're typically divided into tax brackets. Here's an example of a simple tax bracket system:\\n\\n* 10% tax rate on the first $10,000 of taxable income\\n* 15% tax rate on taxable income between $10,001 and $20,000\\n* 20% tax rate on taxable income above $20,000\\n\\nUsing our previous example, if your taxable income is $35,000, you might pay:\\n\\n* 10% on the first $10,000 = $1,000\\n* 15% on the next $15,000 = $2,250\\n* 20% on the remaining $10,000 = $2,000\\n\\nYour total income tax liability would be $1,000 + $2,250 + $2,000 = $5,250.\\n\\n**When Do I Need to Pay Income Tax?**\\n\\nIn most countries, income tax is typically paid throughout the year, either through payroll deductions (if you're an employee) or quarterly estimated tax payments (if you're self-employed). You may also need\""
            ],
            "application/vnd.google.colaboratory.intrinsic+json": {
              "type": "string"
            }
          },
          "metadata": {},
          "execution_count": 11
        }
      ]
    },
    {
      "cell_type": "code",
      "source": [
        "## Language Translation\n",
        "template='''In an easy way translate the following sentence '{sentence}' into {target_language}'''\n",
        "language_prompt = PromptTemplate(\n",
        "    input_variables=[\"sentence\",'target_language'],\n",
        "    template=template,\n",
        ")\n",
        "language_prompt.format(sentence=\"How are you\",target_language='hindi')"
      ],
      "metadata": {
        "colab": {
          "base_uri": "https://localhost:8080/",
          "height": 35
        },
        "id": "RLFm5YaFn-ip",
        "outputId": "45edcd7f-7ba4-4dde-9803-5e98b3b2e91e"
      },
      "execution_count": 12,
      "outputs": [
        {
          "output_type": "execute_result",
          "data": {
            "text/plain": [
              "\"In an easy way translate the following sentence 'How are you' into hindi\""
            ],
            "application/vnd.google.colaboratory.intrinsic+json": {
              "type": "string"
            }
          },
          "metadata": {},
          "execution_count": 12
        }
      ]
    },
    {
      "cell_type": "code",
      "source": [
        "chain2=LLMChain(llm=llm,prompt=language_prompt)\n",
        "\n",
        "chain2({'sentence':\"Hello How are you\",'target_language':'hindi'})"
      ],
      "metadata": {
        "colab": {
          "base_uri": "https://localhost:8080/"
        },
        "id": "Md1X1iGjoTNt",
        "outputId": "7393d42a-5787-45b5-bbfe-58c0dc167f19"
      },
      "execution_count": 13,
      "outputs": [
        {
          "output_type": "stream",
          "name": "stderr",
          "text": [
            "<ipython-input-13-a1fd627bfe56>:3: LangChainDeprecationWarning: The method `Chain.__call__` was deprecated in langchain 0.1.0 and will be removed in 1.0. Use :meth:`~invoke` instead.\n",
            "  chain2({'sentence':\"Hello How are you\",'target_language':'hindi'})\n"
          ]
        },
        {
          "output_type": "execute_result",
          "data": {
            "text/plain": [
              "{'sentence': 'Hello How are you',\n",
              " 'target_language': 'hindi',\n",
              " 'text': 'The translation of \"Hello How are you\" in Hindi is:\\n\\nनमस्ते कैसे हो?\\n\\nHere\\'s a breakdown of the words:\\n\\n* नमस्ते (namaste) = Hello (a more formal way of greeting)\\n* कैसे (kaise) = How\\n* हो (ho) = are (in the sense of \"how are you\")\\n\\nNote: In informal settings, you can use \"हेलो\" (hello) instead of \"नमस्ते\" (namaste). So, the sentence would be:\\n\\nहेलो कैसे हो?\\n\\nBut if you want to be more polite and respectful, use \"नमस्ते\"!'}"
            ]
          },
          "metadata": {},
          "execution_count": 13
        }
      ]
    },
    {
      "cell_type": "code",
      "source": [
        "from langchain import PromptTemplate, FewShotPromptTemplate\n",
        "\n",
        "# First, create the list of few shot examples.\n",
        "examples = [\n",
        "    {\"word\": \"happy\", \"antonym\": \"sad\"},\n",
        "    {\"word\": \"tall\", \"antonym\": \"short\"},\n",
        "]\n",
        "\n",
        "# Next, we specify the template to format the examples we have provided.\n",
        "# We use the `PromptTemplate` class for this.\n",
        "example_formatter_template = \"\"\"Word: {word}\n",
        "Antonym: {antonym}\n",
        "\"\"\"\n",
        "\n",
        "example_prompt = PromptTemplate(\n",
        "    input_variables=[\"word\", \"antonym\"],\n",
        "    template=example_formatter_template,\n",
        ")"
      ],
      "metadata": {
        "id": "nwcgBy4_oZ0j"
      },
      "execution_count": 14,
      "outputs": []
    },
    {
      "cell_type": "code",
      "source": [
        "# Finally, we create the `FewShotPromptTemplate` object.\n",
        "few_shot_prompt = FewShotPromptTemplate(\n",
        "    # These are the examples we want to insert into the prompt.\n",
        "    examples=examples,\n",
        "    # This is how we want to format the examples when we insert them into the prompt.\n",
        "    example_prompt=example_prompt,\n",
        "    # The prefix is some text that goes before the examples in the prompt.\n",
        "    # Usually, this consists of intructions.\n",
        "    prefix=\"Give the antonym of every input\\n\",\n",
        "    # The suffix is some text that goes after the examples in the prompt.\n",
        "    # Usually, this is where the user input will go\n",
        "    suffix=\"Word: {input}\\nAntonym: \",\n",
        "    # The input variables are the variables that the overall prompt expects.\n",
        "    input_variables=[\"input\"],\n",
        "    # The example_separator is the string we will use to join the prefix, examples, and suffix together with.\n",
        "    example_separator=\"\\n\",\n",
        ")"
      ],
      "metadata": {
        "id": "v5M83YR_pqeR"
      },
      "execution_count": 15,
      "outputs": []
    },
    {
      "cell_type": "code",
      "source": [
        "print(few_shot_prompt.format(input='big'))"
      ],
      "metadata": {
        "colab": {
          "base_uri": "https://localhost:8080/"
        },
        "id": "1qCtSflkpwrQ",
        "outputId": "3617537e-cc29-4098-db8d-6fb2c108e96b"
      },
      "execution_count": 16,
      "outputs": [
        {
          "output_type": "stream",
          "name": "stdout",
          "text": [
            "Give the antonym of every input\n",
            "\n",
            "Word: happy\n",
            "Antonym: sad\n",
            "\n",
            "Word: tall\n",
            "Antonym: short\n",
            "\n",
            "Word: big\n",
            "Antonym: \n"
          ]
        }
      ]
    },
    {
      "cell_type": "code",
      "source": [
        "chain=LLMChain(llm=llm,prompt=few_shot_prompt)\n",
        "chain({'input':\"big\"})"
      ],
      "metadata": {
        "colab": {
          "base_uri": "https://localhost:8080/"
        },
        "id": "cokw9cIspzfj",
        "outputId": "ed1ac283-79d6-4e25-d332-5d2963b6141d"
      },
      "execution_count": 17,
      "outputs": [
        {
          "output_type": "execute_result",
          "data": {
            "text/plain": [
              "{'input': 'big', 'text': 'small'}"
            ]
          },
          "metadata": {},
          "execution_count": 17
        }
      ]
    },
    {
      "cell_type": "code",
      "source": [],
      "metadata": {
        "id": "bzV4F1NaqDnj"
      },
      "execution_count": null,
      "outputs": []
    }
  ]
}