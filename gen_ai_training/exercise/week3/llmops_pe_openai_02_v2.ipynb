{
  "nbformat": 4,
  "nbformat_minor": 0,
  "metadata": {
    "colab": {
      "provenance": []
    },
    "kernelspec": {
      "name": "python3",
      "display_name": "Python 3"
    },
    "language_info": {
      "name": "python"
    }
  },
  "cells": [
    {
      "cell_type": "code",
      "execution_count": 1,
      "metadata": {
        "id": "IA67I-i-43fX"
      },
      "outputs": [],
      "source": [
        "import os\n",
        "from google.colab import userdata"
      ]
    },
    {
      "cell_type": "code",
      "source": [
        "OPENAI_API_KEY = userdata.get('OPENAI_API_KEY')\n",
        "os.environ['OPENAI_API_KEY']=OPENAI_API_KEY"
      ],
      "metadata": {
        "id": "aL6XRiHC5FBd"
      },
      "execution_count": 2,
      "outputs": []
    },
    {
      "cell_type": "code",
      "source": [
        "!pip install -qU langchain-openai"
      ],
      "metadata": {
        "colab": {
          "base_uri": "https://localhost:8080/"
        },
        "id": "YLuBQGJi5LEX",
        "outputId": "3558a2eb-74f2-48a2-a39f-b8ee83875d4a"
      },
      "execution_count": 3,
      "outputs": [
        {
          "output_type": "stream",
          "name": "stdout",
          "text": [
            "\u001b[?25l   \u001b[90m━━━━━━━━━━━━━━━━━━━━━━━━━━━━━━━━━━━━━━━━\u001b[0m \u001b[32m0.0/50.9 kB\u001b[0m \u001b[31m?\u001b[0m eta \u001b[36m-:--:--\u001b[0m\r\u001b[2K   \u001b[90m━━━━━━━━━━━━━━━━━━━━━━━━━━━━━━━━━━━━━━━━\u001b[0m \u001b[32m50.9/50.9 kB\u001b[0m \u001b[31m3.6 MB/s\u001b[0m eta \u001b[36m0:00:00\u001b[0m\n",
            "\u001b[?25h\u001b[?25l   \u001b[90m━━━━━━━━━━━━━━━━━━━━━━━━━━━━━━━━━━━━━━━━\u001b[0m \u001b[32m0.0/411.6 kB\u001b[0m \u001b[31m?\u001b[0m eta \u001b[36m-:--:--\u001b[0m\r\u001b[2K   \u001b[90m━━━━━━━━━━━━━━━━━━━━━━━━━━━━━━━━━━━━━━━━\u001b[0m \u001b[32m411.6/411.6 kB\u001b[0m \u001b[31m20.0 MB/s\u001b[0m eta \u001b[36m0:00:00\u001b[0m\n",
            "\u001b[?25h\u001b[?25l   \u001b[90m━━━━━━━━━━━━━━━━━━━━━━━━━━━━━━━━━━━━━━━━\u001b[0m \u001b[32m0.0/454.8 kB\u001b[0m \u001b[31m?\u001b[0m eta \u001b[36m-:--:--\u001b[0m\r\u001b[2K   \u001b[90m━━━━━━━━━━━━━━━━━━━━━━━━━━━━━━━━━━━━━━━━\u001b[0m \u001b[32m454.8/454.8 kB\u001b[0m \u001b[31m27.8 MB/s\u001b[0m eta \u001b[36m0:00:00\u001b[0m\n",
            "\u001b[?25h\u001b[?25l   \u001b[90m━━━━━━━━━━━━━━━━━━━━━━━━━━━━━━━━━━━━━━━━\u001b[0m \u001b[32m0.0/1.2 MB\u001b[0m \u001b[31m?\u001b[0m eta \u001b[36m-:--:--\u001b[0m\r\u001b[2K   \u001b[90m━━━━━━━━━━━━━━━━━━━━━━━━━━━━━━━━━━━━━━━━\u001b[0m \u001b[32m1.2/1.2 MB\u001b[0m \u001b[31m53.9 MB/s\u001b[0m eta \u001b[36m0:00:00\u001b[0m\n",
            "\u001b[?25h"
          ]
        }
      ]
    },
    {
      "cell_type": "code",
      "source": [
        "from langchain_openai import ChatOpenAI"
      ],
      "metadata": {
        "id": "0i78WRbo5RWI"
      },
      "execution_count": 8,
      "outputs": []
    },
    {
      "cell_type": "code",
      "source": [
        "import requests\n",
        "\n",
        "api_key = OPENAI_API_KEY\n",
        "url = \"https://api.openai.com/v1/models\"\n",
        "\n",
        "headers = {\n",
        "    \"Authorization\": f\"Bearer {api_key}\",\n",
        "}\n",
        "\n",
        "response = requests.get(url, headers=headers)\n",
        "\n",
        "if response.status_code == 200:\n",
        "    models = response.json()\n",
        "    for model in models[\"data\"]:\n",
        "        print(model[\"id\"])\n",
        "else:\n",
        "    print(f\"Error: {response.status_code}, {response.text}\")\n",
        "\n"
      ],
      "metadata": {
        "colab": {
          "base_uri": "https://localhost:8080/"
        },
        "id": "selKpRcE7oA_",
        "outputId": "0a5c37e7-1929-4bc1-faed-31b33de7870f"
      },
      "execution_count": 10,
      "outputs": [
        {
          "output_type": "stream",
          "name": "stdout",
          "text": [
            "dall-e-2\n",
            "gpt-3.5-turbo\n",
            "gpt-3.5-turbo-0125\n",
            "gpt-3.5-turbo-instruct\n",
            "babbage-002\n",
            "whisper-1\n",
            "dall-e-3\n",
            "gpt-3.5-turbo-16k\n",
            "omni-moderation-latest\n",
            "o1-preview-2024-09-12\n",
            "omni-moderation-2024-09-26\n",
            "tts-1-hd-1106\n",
            "o1-preview\n",
            "gpt-4o-mini\n",
            "gpt-4o-mini-2024-07-18\n",
            "tts-1-hd\n",
            "davinci-002\n",
            "text-embedding-ada-002\n",
            "gpt-3.5-turbo-1106\n",
            "tts-1\n",
            "tts-1-1106\n",
            "gpt-3.5-turbo-instruct-0914\n",
            "text-embedding-3-small\n",
            "text-embedding-3-large\n",
            "o1-mini\n",
            "o1-mini-2024-09-12\n"
          ]
        }
      ]
    },
    {
      "cell_type": "code",
      "source": [
        "# Create model handle\n",
        "llm = ChatOpenAI(\n",
        "    model=\"gpt-4o-mini\",\n",
        "    temperature=0,\n",
        "    max_tokens=None,\n",
        "    timeout=None,\n",
        "    max_retries=2,\n",
        "    frequency_penalty=0,    # -2 to 2  control the model to avoid to repeat token (duplicate tokens)\n",
        "    presence_penalty=0      # -2 to 2  control to generate the text from input prompt\n",
        ")"
      ],
      "metadata": {
        "id": "NEoL4VWB5pcH"
      },
      "execution_count": 11,
      "outputs": []
    },
    {
      "cell_type": "code",
      "source": [
        "user_prompt = \"Give me a simple list of things that I must bring on a camping trip\""
      ],
      "metadata": {
        "id": "OLA19ZiG6Q02"
      },
      "execution_count": 6,
      "outputs": []
    },
    {
      "cell_type": "code",
      "source": [
        "messages = [\n",
        "    (\n",
        "        \"system\",\n",
        "        \"You are a helpful assistant who can answer user question precisely\"\n",
        "    ),\n",
        "    (\"human\", f'{user_prompt}'),\n",
        "]\n",
        "ai_msg = llm.invoke(messages)\n",
        "ai_msg"
      ],
      "metadata": {
        "colab": {
          "base_uri": "https://localhost:8080/"
        },
        "id": "XIjPc2Bi6edo",
        "outputId": "01e1c511-78ff-4857-c5d8-7e340fd7b5c7"
      },
      "execution_count": 12,
      "outputs": [
        {
          "output_type": "execute_result",
          "data": {
            "text/plain": [
              "AIMessage(content=\"Here's a simple list of essential items to bring on a camping trip:\\n\\n1. Tent\\n2. Sleeping bag\\n3. Sleeping pad or air mattress\\n4. Camping stove or portable grill\\n5. Cooking utensils (pot, pan, spatula)\\n6. Food and snacks\\n7. Water and water bottles\\n8. Cooler (if needed)\\n9. First aid kit\\n10. Flashlight or headlamp\\n11. Extra batteries\\n12. Multi-tool or knife\\n13. Matches or lighter\\n14. Clothing appropriate for the weather\\n15. Hiking boots or sturdy shoes\\n16. Insect repellent\\n17. Sunscreen\\n18. Map and compass or GPS\\n19. Trash bags\\n20. Camping chairs\\n\\nFeel free to adjust the list based on your specific needs and the length of your trip!\", additional_kwargs={'refusal': None}, response_metadata={'token_usage': {'completion_tokens': 168, 'prompt_tokens': 37, 'total_tokens': 205, 'completion_tokens_details': {'accepted_prediction_tokens': 0, 'audio_tokens': 0, 'reasoning_tokens': 0, 'rejected_prediction_tokens': 0}, 'prompt_tokens_details': {'audio_tokens': 0, 'cached_tokens': 0}}, 'model_name': 'gpt-4o-mini-2024-07-18', 'system_fingerprint': 'fp_0aa8d3e20b', 'finish_reason': 'stop', 'logprobs': None}, id='run-a71f4153-6d48-41b1-8204-3f1461f59fe5-0', usage_metadata={'input_tokens': 37, 'output_tokens': 168, 'total_tokens': 205, 'input_token_details': {'audio': 0, 'cache_read': 0}, 'output_token_details': {'audio': 0, 'reasoning': 0}})"
            ]
          },
          "metadata": {},
          "execution_count": 12
        }
      ]
    },
    {
      "cell_type": "code",
      "source": [
        "messages = [\n",
        "    {\n",
        "        \"role\": \"system\",\n",
        "        \"content\": \"You are a helpful assistant who can answer user questions precisely\"\n",
        "    },\n",
        "    {\"role\": \"user\", \"content\": f'{user_prompt}'},\n",
        "]\n",
        "ai_msg = llm.invoke(messages)\n",
        "ai_msg"
      ],
      "metadata": {
        "colab": {
          "base_uri": "https://localhost:8080/"
        },
        "id": "TfQd4qFT7E3B",
        "outputId": "c40f0301-b53c-4476-c955-45f4eb268543"
      },
      "execution_count": 13,
      "outputs": [
        {
          "output_type": "execute_result",
          "data": {
            "text/plain": [
              "AIMessage(content=\"Here's a simple list of essential items to bring on a camping trip:\\n\\n1. Tent\\n2. Sleeping bag\\n3. Sleeping pad or air mattress\\n4. Camping stove or portable grill\\n5. Cooking utensils (pot, pan, spatula)\\n6. Food and snacks\\n7. Water and water bottles\\n8. Cooler (if needed)\\n9. First aid kit\\n10. Flashlight or headlamp\\n11. Extra batteries\\n12. Multi-tool or knife\\n13. Matches or lighter\\n14. Clothing appropriate for the weather\\n15. Hiking boots or sturdy shoes\\n16. Insect repellent\\n17. Sunscreen\\n18. Map and compass or GPS\\n19. Trash bags\\n20. Camping chairs\\n\\nFeel free to adjust the list based on your specific needs and the length of your trip!\", additional_kwargs={'refusal': None}, response_metadata={'token_usage': {'completion_tokens': 167, 'prompt_tokens': 37, 'total_tokens': 204, 'completion_tokens_details': {'accepted_prediction_tokens': 0, 'audio_tokens': 0, 'reasoning_tokens': 0, 'rejected_prediction_tokens': 0}, 'prompt_tokens_details': {'audio_tokens': 0, 'cached_tokens': 0}}, 'model_name': 'gpt-4o-mini-2024-07-18', 'system_fingerprint': 'fp_f2cd28694a', 'finish_reason': 'stop', 'logprobs': None}, id='run-ad3f5d8c-5a37-4f5c-ba78-a41f51c97383-0', usage_metadata={'input_tokens': 37, 'output_tokens': 167, 'total_tokens': 204, 'input_token_details': {'audio': 0, 'cache_read': 0}, 'output_token_details': {'audio': 0, 'reasoning': 0}})"
            ]
          },
          "metadata": {},
          "execution_count": 13
        }
      ]
    },
    {
      "cell_type": "code",
      "source": [
        "print(ai_msg.content)"
      ],
      "metadata": {
        "colab": {
          "base_uri": "https://localhost:8080/"
        },
        "id": "1hJ4Ax-T9daP",
        "outputId": "10617e96-3be1-4842-fded-9c706047495f"
      },
      "execution_count": 14,
      "outputs": [
        {
          "output_type": "stream",
          "name": "stdout",
          "text": [
            "Here's a simple list of essential items to bring on a camping trip:\n",
            "\n",
            "1. Tent\n",
            "2. Sleeping bag\n",
            "3. Sleeping pad or air mattress\n",
            "4. Camping stove or portable grill\n",
            "5. Cooking utensils (pot, pan, spatula)\n",
            "6. Food and snacks\n",
            "7. Water and water bottles\n",
            "8. Cooler (if needed)\n",
            "9. First aid kit\n",
            "10. Flashlight or headlamp\n",
            "11. Extra batteries\n",
            "12. Multi-tool or knife\n",
            "13. Matches or lighter\n",
            "14. Clothing appropriate for the weather\n",
            "15. Hiking boots or sturdy shoes\n",
            "16. Insect repellent\n",
            "17. Sunscreen\n",
            "18. Map and compass or GPS\n",
            "19. Trash bags\n",
            "20. Camping chairs\n",
            "\n",
            "Feel free to adjust the list based on your specific needs and the length of your trip!\n"
          ]
        }
      ]
    },
    {
      "cell_type": "code",
      "source": [
        "print(llm.predict(user_prompt))"
      ],
      "metadata": {
        "colab": {
          "base_uri": "https://localhost:8080/"
        },
        "id": "O6kM0JMU9k-_",
        "outputId": "ecf49de1-dc3b-4129-a580-6eff62dbbff7"
      },
      "execution_count": 15,
      "outputs": [
        {
          "output_type": "stream",
          "name": "stderr",
          "text": [
            "<ipython-input-15-ce17c6bc4742>:1: LangChainDeprecationWarning: The method `BaseChatModel.predict` was deprecated in langchain-core 0.1.7 and will be removed in 1.0. Use :meth:`~invoke` instead.\n",
            "  print(llm.predict(user_prompt))\n"
          ]
        },
        {
          "output_type": "stream",
          "name": "stdout",
          "text": [
            "Sure! Here’s a simple list of essentials to bring on a camping trip:\n",
            "\n",
            "1. Tent\n",
            "2. Sleeping bag\n",
            "3. Sleeping pad or air mattress\n",
            "4. Camping stove or portable grill\n",
            "5. Cooking utensils (pot, pan, spatula)\n",
            "6. Food and snacks\n",
            "7. Water and water bottles\n",
            "8. Cooler (if needed)\n",
            "9. First aid kit\n",
            "10. Flashlight or headlamp\n",
            "11. Extra batteries\n",
            "12. Multi-tool or knife\n",
            "13. Matches or lighter\n",
            "14. Clothing appropriate for the weather\n",
            "15. Hiking boots or sturdy shoes\n",
            "16. Insect repellent\n",
            "17. Sunscreen\n",
            "18. Map and compass or GPS\n",
            "19. Trash bags\n",
            "20. Camping chairs\n",
            "\n",
            "Feel free to adjust the list based on your specific needs and the length of your trip!\n"
          ]
        }
      ]
    },
    {
      "cell_type": "code",
      "source": [
        "llm.predict(\"where is the livermore shiva visnu temple located\")"
      ],
      "metadata": {
        "colab": {
          "base_uri": "https://localhost:8080/",
          "height": 71
        },
        "id": "K1iAuYnX90Vh",
        "outputId": "d6bf3e69-5752-4d8c-b01a-f73e1a38d225"
      },
      "execution_count": 17,
      "outputs": [
        {
          "output_type": "execute_result",
          "data": {
            "text/plain": [
              "'The Livermore Shiva Vishnu Temple is located in Livermore, California. Specifically, the address is 1232 Arrowhead Avenue, Livermore, CA 94551. The temple serves as a place of worship and community for followers of Hinduism, featuring various deities, including Shiva and Vishnu.'"
            ],
            "application/vnd.google.colaboratory.intrinsic+json": {
              "type": "string"
            }
          },
          "metadata": {},
          "execution_count": 17
        }
      ]
    },
    {
      "cell_type": "code",
      "source": [
        "print(llm.predict(\"What are the 5 good names for a flower shop that specializes in selling bouquets of dried flowers?\"))"
      ],
      "metadata": {
        "colab": {
          "base_uri": "https://localhost:8080/"
        },
        "id": "DOF8LgXB-KIV",
        "outputId": "37e6d780-68c4-46e9-ab27-c99cc736aed1"
      },
      "execution_count": 18,
      "outputs": [
        {
          "output_type": "stream",
          "name": "stdout",
          "text": [
            "Here are five creative names for a flower shop specializing in dried flower bouquets:\n",
            "\n",
            "1. **Everlasting Blooms**\n",
            "2. **Dried Delights**\n",
            "3. **Timeless Petals**\n",
            "4. **Whispering Flora**\n",
            "5. **Faded Elegance**\n",
            "\n",
            "These names evoke the beauty and longevity of dried flowers while appealing to customers looking for unique floral arrangements.\n"
          ]
        }
      ]
    },
    {
      "cell_type": "code",
      "source": [
        "print(llm.predict(\"Give me a simple list of things that I must bring on a camping trip\"))"
      ],
      "metadata": {
        "colab": {
          "base_uri": "https://localhost:8080/"
        },
        "id": "1kakzL7A-lye",
        "outputId": "6f780c57-c2cd-42f0-9b7b-807b87bc6870"
      },
      "execution_count": 19,
      "outputs": [
        {
          "output_type": "stream",
          "name": "stdout",
          "text": [
            "Sure! Here’s a simple list of essentials to bring on a camping trip:\n",
            "\n",
            "1. Tent\n",
            "2. Sleeping bag\n",
            "3. Sleeping pad or air mattress\n",
            "4. Camping stove or portable grill\n",
            "5. Cooking utensils (pot, pan, spatula)\n",
            "6. Food and snacks\n",
            "7. Water and water bottles\n",
            "8. Cooler (if needed)\n",
            "9. First aid kit\n",
            "10. Flashlight or headlamp\n",
            "11. Extra batteries\n",
            "12. Multi-tool or knife\n",
            "13. Matches or lighter\n",
            "14. Clothing appropriate for the weather\n",
            "15. Hiking boots or sturdy shoes\n",
            "16. Insect repellent\n",
            "17. Sunscreen\n",
            "18. Map and compass or GPS\n",
            "19. Trash bags\n",
            "20. Personal hygiene items (toothbrush, soap, etc.)\n",
            "\n",
            "Feel free to adjust the list based on your specific needs and the length of your trip!\n"
          ]
        }
      ]
    },
    {
      "cell_type": "code",
      "source": [
        "promt='''\n",
        "Classify the following items as [large, small].\n",
        "Elephant\n",
        "Mouse\n",
        "Snail\n",
        "'''"
      ],
      "metadata": {
        "id": "VkVLlIZ7_EbZ"
      },
      "execution_count": 20,
      "outputs": []
    },
    {
      "cell_type": "code",
      "source": [
        "print(llm.predict(promt))"
      ],
      "metadata": {
        "colab": {
          "base_uri": "https://localhost:8080/"
        },
        "id": "2JcdbBXx_i8C",
        "outputId": "525cfa41-d44e-4931-d865-532629550577"
      },
      "execution_count": 21,
      "outputs": [
        {
          "output_type": "stream",
          "name": "stdout",
          "text": [
            "- Elephant: large\n",
            "- Mouse: small\n",
            "- Snail: small\n"
          ]
        }
      ]
    },
    {
      "cell_type": "code",
      "source": [
        "print(llm.predict(\"Some simple strategies for learning generative AI include\"))"
      ],
      "metadata": {
        "colab": {
          "base_uri": "https://localhost:8080/"
        },
        "id": "bFWIQZ5X_ogq",
        "outputId": "d13e5bef-edb6-42c6-f88d-f5277ee81f99"
      },
      "execution_count": 22,
      "outputs": [
        {
          "output_type": "stream",
          "name": "stdout",
          "text": [
            "Learning generative AI can be an exciting journey, and there are several strategies you can employ to make the process more effective. Here are some simple strategies to get you started:\n",
            "\n",
            "1. **Understand the Basics**:\n",
            "   - Start with foundational concepts in machine learning and deep learning. Familiarize yourself with key terms like neural networks, training, validation, and overfitting.\n",
            "\n",
            "2. **Online Courses and Tutorials**:\n",
            "   - Enroll in online courses that focus on generative AI. Platforms like Coursera, edX, and Udacity offer courses on deep learning and generative models (e.g., GANs, VAEs).\n",
            "\n",
            "3. **Hands-On Practice**:\n",
            "   - Implement simple generative models using popular libraries like TensorFlow or PyTorch. Start with basic projects, such as generating images or text, to build your confidence.\n",
            "\n",
            "4. **Explore Pre-trained Models**:\n",
            "   - Use pre-trained models available in libraries like Hugging Face Transformers or TensorFlow Hub. Experiment with fine-tuning these models on your own datasets.\n",
            "\n",
            "5. **Read Research Papers**:\n",
            "   - Familiarize yourself with seminal papers in generative AI, such as the original GAN paper by Ian Goodfellow or the VAE paper. Understanding the theory behind these models can deepen your knowledge.\n",
            "\n",
            "6. **Join Online Communities**:\n",
            "   - Engage with communities on platforms like GitHub, Reddit, or specialized forums. Participating in discussions, asking questions, and sharing your projects can enhance your learning experience.\n",
            "\n",
            "7. **Work on Projects**:\n",
            "   - Apply what you learn by working on personal projects. This could involve generating art, music, or text. Real-world applications will help solidify your understanding.\n",
            "\n",
            "8. **Follow Tutorials and Blogs**:\n",
            "   - Follow tutorials and blogs from experts in the field. Many practitioners share their insights and code, which can be invaluable for learning.\n",
            "\n",
            "9. **Experiment with Different Architectures**:\n",
            "   - Explore various generative models, such as GANs, VAEs, and autoregressive models. Understanding the strengths and weaknesses of each can broaden your perspective.\n",
            "\n",
            "10. **Stay Updated**:\n",
            "    - The field of generative AI is rapidly evolving. Follow relevant news, attend webinars, and participate in conferences to stay informed about the latest advancements.\n",
            "\n",
            "11. **Collaborate with Others**:\n",
            "    - Collaborate with peers or join study groups. Working with others can provide new insights and help you tackle challenges more effectively.\n",
            "\n",
            "12. **Document Your Learning**:\n",
            "    - Keep a learning journal or blog about your experiences and projects. Teaching others what you’ve learned can reinforce your own understanding.\n",
            "\n",
            "By combining these strategies, you can build a solid foundation in generative AI and develop the skills needed to create your own generative models.\n"
          ]
        }
      ]
    },
    {
      "cell_type": "code",
      "source": [
        "print(llm.predict(\"give me a python function on how to multiply two 2 numbers\"))"
      ],
      "metadata": {
        "colab": {
          "base_uri": "https://localhost:8080/"
        },
        "id": "mb4ELt2u_-P6",
        "outputId": "3db4e690-d9f8-4efe-b6ac-d12ac26ea651"
      },
      "execution_count": 23,
      "outputs": [
        {
          "output_type": "stream",
          "name": "stdout",
          "text": [
            "Certainly! Here’s a simple Python function that multiplies two numbers:\n",
            "\n",
            "```python\n",
            "def multiply_numbers(a, b):\n",
            "    \"\"\"Multiply two numbers and return the result.\"\"\"\n",
            "    return a * b\n",
            "\n",
            "# Example usage:\n",
            "result = multiply_numbers(3, 5)\n",
            "print(\"The result is:\", result)\n",
            "```\n",
            "\n",
            "You can call the `multiply_numbers` function with any two numbers, and it will return their product. In the example provided, it multiplies 3 and 5, resulting in 15.\n"
          ]
        }
      ]
    },
    {
      "cell_type": "code",
      "source": [
        "# Describe the image"
      ],
      "metadata": {
        "id": "7WWQuH5nAg3D"
      },
      "execution_count": 25,
      "outputs": []
    },
    {
      "cell_type": "code",
      "source": [
        "from langchain_core.messages import HumanMessage"
      ],
      "metadata": {
        "id": "7FTOdWHwA1sX"
      },
      "execution_count": 26,
      "outputs": []
    },
    {
      "cell_type": "code",
      "source": [
        "import base64"
      ],
      "metadata": {
        "id": "n88Cap9XBCPX"
      },
      "execution_count": 27,
      "outputs": []
    },
    {
      "cell_type": "code",
      "source": [
        "with open(\"frame.png\", \"rb\") as f:\n",
        "  image_data = f.read()\n",
        "image_data = base64.b64encode(image_data).decode(\"utf-8\")"
      ],
      "metadata": {
        "id": "usj_x5zFBNEE"
      },
      "execution_count": 31,
      "outputs": []
    },
    {
      "cell_type": "code",
      "source": [
        "image_data"
      ],
      "metadata": {
        "colab": {
          "base_uri": "https://localhost:8080/",
          "height": 214
        },
        "id": "ZmUxyY4wBpR2",
        "outputId": "aec532f7-d155-41f9-f1c4-046110666470"
      },
      "execution_count": 32,
      "outputs": [
        {
          "output_type": "execute_result",
          "data": {
            "text/plain": [
              "'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'"
            ],
            "application/vnd.google.colaboratory.intrinsic+json": {
              "type": "string"
            }
          },
          "metadata": {},
          "execution_count": 32
        }
      ]
    },
    {
      "cell_type": "code",
      "source": [
        "message = HumanMessage(\n",
        "    content=[\n",
        "        {\"type\": \"text\", \"text\": \"what is the name of the god in the image and describe image in details\"},\n",
        "        {\n",
        "            \"type\": \"image_url\",\n",
        "            \"image_url\": {\"url\": f\"data:image/png;base64,{image_data}\"},\n",
        "        },\n",
        "    ]\n",
        ")\n",
        "response = llm.invoke([message])\n",
        "print(response.content)"
      ],
      "metadata": {
        "colab": {
          "base_uri": "https://localhost:8080/"
        },
        "id": "xc4W3f7JDQAY",
        "outputId": "fcc0af21-0b68-41c2-c18e-a4e0b5b173f8"
      },
      "execution_count": 36,
      "outputs": [
        {
          "output_type": "stream",
          "name": "stdout",
          "text": [
            "I'm unable to identify or describe the content of the image you provided, as it appears to be a QR code. If you have any specific questions or need information about a particular god or deity, feel free to ask!\n"
          ]
        }
      ]
    },
    {
      "cell_type": "code",
      "source": [
        "messaage=[{\"role\": \"user\",\n",
        "          \"content\": [\n",
        "              {\"type\": \"text\", \"text\": \"describe the image\"},\n",
        "              {\n",
        "                  \"type\": \"image_url\",\n",
        "                  \"image_url\": {\"url\": f\"data:image/jpeg;base64,{image_data}\"},\n",
        "              },\n",
        "          ]}]"
      ],
      "metadata": {
        "id": "L7nJegm1ETw6"
      },
      "execution_count": 37,
      "outputs": []
    },
    {
      "cell_type": "code",
      "source": [
        "response = llm.invoke([message])\n",
        "print(response.content)"
      ],
      "metadata": {
        "colab": {
          "base_uri": "https://localhost:8080/"
        },
        "id": "o3-vxCW4FMJp",
        "outputId": "88a84cee-f1eb-46a7-98fe-48fd2e8ee6e3"
      },
      "execution_count": 38,
      "outputs": [
        {
          "output_type": "stream",
          "name": "stdout",
          "text": [
            "I'm unable to identify or describe the content of the image you provided, as it appears to be a QR code. If you have any specific questions or need information about a particular god or deity, feel free to ask!\n"
          ]
        }
      ]
    },
    {
      "cell_type": "code",
      "source": [],
      "metadata": {
        "id": "89jBRzspFXaA"
      },
      "execution_count": null,
      "outputs": []
    }
  ]
}