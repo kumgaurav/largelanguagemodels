{
 "cells": [
  {
   "cell_type": "markdown",
   "metadata": {},
   "source": [
    "# Parameterizing the Llama 2 Model\n",
    "\n",
    "We've talked about some of the fundamentals of large language models -- llama 2 specifically -- and how they are\n",
    "nondeterministic probabalistic machines which predict token sequences based on their pretrained weights. If we want to\n",
    "(and I don't think this is done in deployment very often) we can actually observe some of the inner workings of this\n",
    "choice in llama.cpp by configuring the model when we load it. This is going to be helpful in getting a better\n",
    "understanding of how we can change the behavior of the model, so let's take a look.\n"
   ]
  },
  {
   "cell_type": "code",
   "execution_count": 2,
   "metadata": {},
   "outputs": [],
   "source": [
    "# Import the llama.cpp python bindings and load the model, this time we are\n",
    "# going to indicate to the model that we want to capture the probabilities\n",
    "# of tokens for analysis as well, we do this by setting logits_all=True.\n",
    "# I'll also include the llama types just for code cleanliness and completeness\n",
    "import os\n",
    "from llama_cpp import Llama\n",
    "from llama_cpp.llama_types import *\n",
    "\n",
    "model: Llama = Llama(\n",
    "    model_path=os.environ[\"LLAMA_13B\"], verbose=False, logits_all=True\n",
    ")"
   ]
  },
  {
   "cell_type": "code",
   "execution_count": 3,
   "metadata": {},
   "outputs": [
    {
     "name": "stdout",
     "output_type": "stream",
     "text": [
      "14th on the list of most dangerous cities in America.\n",
      "The city\n",
      "['1', '4', 'th', ' on', ' the', ' list', ' of', ' most', ' dangerous', ' cities', ' in', ' America', '.', '\\n', 'The', ' city']\n",
      "[-1.2581345, -1.9064457, -2.0102007, -1.4877319, -0.69384456, -0.30852577, -0.12820004, -1.8777747, -1.5640584, -0.2770181, -0.23983036, -1.0902431, -0.76887864, -1.1293881, -1.9391508, -2.3217533]\n",
      "[27, 28, 29, 31, 34, 38, 43, 46, 51, 61, 68, 71, 79, 80, 81, 84]\n"
     ]
    }
   ],
   "source": [
    "# When we send a prompt to the model we can pass in the logprobs parameter which\n",
    "# will determine how many alternative choices we will see. I'll just look at the\n",
    "# top two choices. And we'll set the temperature to 0, which means that we'll\n",
    "# have the model always choose from that top 3 the very best choice\n",
    "result: Completion = model.create_completion(\n",
    "    prompt=\"The capital of Michigan is \", logprobs=3, max_tokens=16, temperature=0\n",
    ")\n",
    "\n",
    "# Take out the response content from the Completion object\n",
    "item = result[\"choices\"][0]\n",
    "\n",
    "# Print out the response text\n",
    "print(item[\"text\"])\n",
    "\n",
    "# The individual token probabilities are in the CompletionLogprobs object\n",
    "details: CompletionLogprobs = item[\"logprobs\"]\n",
    "\n",
    "# Here we can look at the list of tokens, their probabilities, and their offset\n",
    "# in the prompt+response\n",
    "print(details[\"tokens\"])  # these will actually be encoded (text) copies of tokens!\n",
    "print(\n",
    "    details[\"token_logprobs\"]\n",
    ")  # the probability of the token in the set of candidates\n",
    "print(details[\"text_offset\"])  # the location in the prompt+response"
   ]
  },
  {
   "cell_type": "markdown",
   "metadata": {},
   "source": [
    "So, this is interesting, even if it's not something you're likely to do in production very often. It lets you see not\n",
    "only what the tokens were, but how likely they were to fit into the response. Underneath, the goal of the model is to\n",
    "choose the magnitude of the token which is closest to zero as often as possible, but to do so while respecting the\n",
    "temperature parameter. Now, that's a little bit of an oversimplification, actually the model considers another parameter\n",
    "called top_p as well. This parameter determines how many words are in the candidate set for us to consider. temperature\n",
    "and top_p work differently, but together, to determine which token is chosen. For both parameters a higher number gives\n",
    "more options, and thus less deterministic output.\n",
    "\n",
    "Let's dig in just a bit more.\n"
   ]
  },
  {
   "cell_type": "code",
   "execution_count": 4,
   "metadata": {},
   "outputs": [
    {
     "name": "stdout",
     "output_type": "stream",
     "text": [
      "{'1': -1.2581345, '2': -1.3801266, '3': -2.0985427}\n",
      "{'4': -1.9064457, '2': -2.1594117, '0': -2.2457373}\n",
      "{'th': -2.0102007, '0': -2.3570406, '4': -2.3871949}\n",
      "{' on': -1.4877319, ' in': -1.7202435, ' largest': -2.0042315}\n",
      "{' the': -0.69384456, ' a': -2.0116336, ' our': -2.0541122}\n",
      "{' list': -0.30852577, ' U': -3.4331338, ' For': -3.4778345}\n",
      "{' of': -0.12820004, '.': -3.4785008, ',': -3.5628467}\n",
      "{' the': -1.2324786, ' most': -1.8777747, ' cities': -2.7289329}\n",
      "{' dangerous': -1.5640584, ' popul': -1.8241092, ' expensive': -2.2319298}\n",
      "{' cities': -0.2770181, ' U': -2.9521394, ' places': -3.1585898}\n",
      "{' in': -0.23983036, ' for': -3.0415556, '.': -3.055794}\n",
      "{' the': -0.45761937, ' America': -1.0902431, ' Michigan': -4.70593}\n",
      "{'.': -0.76887864, ',': -1.3212144, '\\n': -2.5920274}\n",
      "{'\\n': -1.1293881, ' The': -2.3599255, ' It': -3.0682452}\n",
      "{'The': -1.9391508, 'Mich': -2.707284, 'L': -2.7858906}\n",
      "{' capital': -2.0821187, ' city': -2.3217533, ' F': -2.7388074}\n"
     ]
    }
   ],
   "source": [
    "# We can actually see for each token what the alternatives were and what their\n",
    "# logprob was. We can iterate through the set of tokens and, since I set logprobs=3,\n",
    "# we will see the top three options for each token\n",
    "for token_choice in details[\"top_logprobs\"]:\n",
    "    print(token_choice)"
   ]
  },
  {
   "cell_type": "markdown",
   "metadata": {},
   "source": [
    "## Temperature\n",
    "\n",
    "Now, there are several parameters we can use to constrain or guide what the language model might choose for the next\n",
    "token. Going into them in detail is outside of the scope of this short course, but I want to give you a bit of an\n",
    "intuitive understanding of how they work. The first one, which we've already talked a bit about, is the `temperature`,\n",
    "and we can use our newfound ability to find probabilities of tokens to see better how this is working.\n"
   ]
  },
  {
   "cell_type": "code",
   "execution_count": 5,
   "metadata": {},
   "outputs": [
    {
     "name": "stdout",
     "output_type": "stream",
     "text": [
      "['1', '5', '4', ' miles', ' from', ' To', 'led', 'o', ',', ' Ohio', '.', '\\n', 'A', ':', ' Detroit', ' is']\n",
      "\n",
      "{'1': -1.2581345, '2': -1.3801266, '3': -2.0985427}\n",
      "{'4': -1.9064457, '2': -2.1594117, '0': -2.2457373, '5': -2.257005}\n",
      "{'0': -1.6116359, 'th': -2.5370834, '5': -2.5731857, '4': -2.7806041}\n",
      "{' miles': -0.71913254, '.': -1.5969259, ' years': -2.4036627}\n",
      "{' from': -1.1768222, ' away': -2.1144385, ' (': -2.2434993}\n",
      "{' the': -1.715092, ' Chicago': -1.907944, ' Detroit': -2.7452128, ' To': -3.3888438}\n",
      "{'led': -0.009333666, 'pe': -4.863393, 'ber': -7.8219204}\n",
      "{'o': -0.000281056, 'a': -10.461307, '...': -10.747232}\n",
      "{',': -0.75099295, '.': -1.2286122, ' and': -2.2649662}\n",
      "{' Ohio': -0.5086052, ' and': -2.5078747, ' O': -2.7846692}\n",
      "{',': -0.76004976, '.': -0.89862627, ' and': -3.0121918}\n",
      "{'\\n': -1.7718374, ' The': -1.9226686, ' It': -2.1530676}\n",
      "{'The': -1.5949445, 'How': -2.5521302, 'What': -2.6860414, 'A': -4.042893}\n",
      "{':': -2.264958, ' ': -3.4803605, '.': -3.5039792}\n",
      "{' The': -1.0294231, ' To': -2.1519208, ' Detroit': -2.4802518}\n",
      "{' is': -0.8022166, ',': -0.9045649, ' and': -3.575883}\n"
     ]
    }
   ],
   "source": [
    "# As the temperature was set to 0 the very first token, the one which\n",
    "# minimized the absolute value of the logprob, was chosen. We can experiment\n",
    "# a bit with this -- let's turn up the heat and see what happens\n",
    "result: Completion = model.create_completion(\n",
    "    prompt=\"The capital of Michigan is \", logprobs=3, max_tokens=16, temperature=0.7\n",
    ")\n",
    "\n",
    "details: CompletionLogprobs = result[\"choices\"][0][\"logprobs\"]\n",
    "\n",
    "# Here we can look at the list of tokens, their probabilities, and their offset\n",
    "# in the prompt+response\n",
    "print(details[\"tokens\"])\n",
    "print()  # little whitespace to see better\n",
    "\n",
    "# iterate through results\n",
    "for token_choice in details[\"top_logprobs\"]:\n",
    "    print(token_choice)"
   ]
  },
  {
   "cell_type": "markdown",
   "metadata": {},
   "source": [
    "Ok! So here we can see that the sequence returned isn't made up of each of the lowest tokens in the candidate sets. In\n",
    "fact, depending on a little bit of randomness, you might even see that several of the candidate sets have more than the\n",
    "3 tokens in them -- that the high temperature resulted in the model choosing a token that wasn't in the top three\n",
    "options. This important to note too -- even though we set the logprobs to three, that's not the complete candidate set\n",
    "of tokens, but just the ones which are being returned to us programmatically.\n"
   ]
  },
  {
   "cell_type": "markdown",
   "metadata": {},
   "source": [
    "## `top_k`\n",
    "\n",
    "Another parameter we have in our toolbox is called `top_k`, and this more forcefully constraints the language model,\n",
    "telling it _only_ to choose from a fixed set of best possible matches. This parameter is an integer value, and if we set\n",
    "it to one, for instance, the model will have only one choice to choose from and the temperature won't matter. Let's take\n",
    "a look.\n"
   ]
  },
  {
   "cell_type": "code",
   "execution_count": 6,
   "metadata": {},
   "outputs": [
    {
     "name": "stdout",
     "output_type": "stream",
     "text": [
      "['1', '2', '5', ' miles', ' west', ' of', ' Detroit', ' and', ' ', '3', '0', ' miles', ' north', ' of', ' the', ' Indiana']\n",
      "\n",
      "{'1': -1.2581345, '2': -1.3801266, '3': -2.0985427}\n",
      "{'4': -1.9064457, '2': -2.1594117, '0': -2.2457373}\n",
      "{'th': -1.9253953, '5': -2.0877736, '0': -2.1950066}\n",
      "{' miles': -0.30566153, ' years': -2.3266575, '.': -2.7989914}\n",
      "{' from': -1.3975685, ' west': -1.4879501, ' north': -2.098111}\n",
      "{' of': -0.06492585, '-': -3.5104234, ' from': -4.4091716}\n",
      "{' Detroit': -0.14634058, ' the': -3.1374495, ' Lake': -4.1514215}\n",
      "{'.': -1.0419552, ' and': -1.2214749, ',': -1.5008957}\n",
      "{' ': -1.2758332, ' is': -1.3793737, ' has': -2.916048}\n",
      "{'1': -1.2426615, '2': -1.8018103, '3': -2.332631}\n",
      "{'0': -0.9343345, '5': -1.8219879, '7': -2.7554862}\n",
      "{' miles': -0.31157643, '0': -1.5994582, ' minutes': -3.880217}\n",
      "{' east': -0.9051611, ' north': -1.9485438, ' south': -2.0717795}\n",
      "{' of': -0.22633612, 'west': -1.7161185, '-': -4.6258225}\n",
      "{' L': -1.0396819, ' the': -1.3250108, ' Ann': -2.4154887}\n",
      "{' Indiana': -0.8096639, ' Ohio': -1.4253417, ' state': -2.6153688}\n"
     ]
    }
   ],
   "source": [
    "# Let's now constrain the set of choices the model can consider by setting top_k\n",
    "# to two. In this world the model only has a choice between the two best fitting\n",
    "# tokens for a position in the output sequence.\n",
    "result: Completion = model.create_completion(\n",
    "    prompt=\"The capital of Michigan is \",\n",
    "    logprobs=3,\n",
    "    max_tokens=16,\n",
    "    temperature=1.0,\n",
    "    top_k=2,\n",
    ")\n",
    "\n",
    "details: CompletionLogprobs = result[\"choices\"][0][\"logprobs\"]\n",
    "\n",
    "# Here we can look at the list of tokens, their probabilities, and their offset\n",
    "# in the prompt+response\n",
    "print(details[\"tokens\"])\n",
    "print()  # little whitespace to see better\n",
    "\n",
    "# iterate through results\n",
    "for token_choice in details[\"top_logprobs\"]:\n",
    "    print(token_choice)"
   ]
  },
  {
   "cell_type": "markdown",
   "metadata": {},
   "source": [
    "You see here that because logprobs is set to three I'm still being shown potential tokens, but they are pruned from the\n",
    "candidate set before the model samples from the list as the `top_k` value is only two. By default the `top_k` value is\n",
    "40, and you can see how it works with the temperature to determine which tokens are placed in the output sequence.\n"
   ]
  },
  {
   "cell_type": "markdown",
   "metadata": {},
   "source": [
    "## `top_p`\n",
    "\n",
    "We also have another variable we can use for tuning, called `top_p`. This variable is a bit more complex, it constrains\n",
    "the candidate set of tokens based upon their cummulative probability distribution. It's a floating point number from 0\n",
    "through 1, where 1 would be all possible tokens from our vocabulary. You can think of this as follows:\n",
    "\n",
    "1. Each candidate token has a probability of being chosen and put in the output sequence.\n",
    "2. We want to only choose from a set of really good options, so we take a number of high probability items and we're\n",
    "   going to put them in the candidate set.\n",
    "3. We don't want to constrain the set to only ten or fifteen items. Instead, once the number of items in that set have a\n",
    "   combined probability equal to `top_p`, then we will stop adding items to the set.\n",
    "\n",
    "So, it's a lot like `top_k` as the goal is to constrain the size of the candidate set, but for each position in the\n",
    "output sequence the number of items we choose from will vary depending on how high of a probability the items have.\n",
    "Let's take a look.\n"
   ]
  },
  {
   "cell_type": "code",
   "execution_count": 7,
   "metadata": {},
   "outputs": [
    {
     "name": "stdout",
     "output_type": "stream",
     "text": [
      "['1', '4', 'th', ' on', ' the', ' list', ' of', ' most', ' dangerous', ' cities', ' in', ' America', '.', '\\n', 'The', ' city']\n",
      "\n",
      "{'1': -1.2581345, '2': -1.3801266, '3': -2.0985427}\n",
      "{'4': -1.9064457, '2': -2.1594117, '0': -2.2457373}\n",
      "{'th': -2.0102007, '0': -2.3570406, '4': -2.3871949}\n",
      "{' on': -1.4877319, ' in': -1.7202435, ' largest': -2.0042315}\n",
      "{' the': -0.69384456, ' a': -2.0116336, ' our': -2.0541122}\n",
      "{' list': -0.30852577, ' U': -3.4331338, ' For': -3.4778345}\n",
      "{' of': -0.12820004, '.': -3.4785008, ',': -3.5628467}\n",
      "{' the': -1.2324786, ' most': -1.8777747, ' cities': -2.7289329}\n",
      "{' dangerous': -1.5640584, ' popul': -1.8241092, ' expensive': -2.2319298}\n",
      "{' cities': -0.2770181, ' U': -2.9521394, ' places': -3.1585898}\n",
      "{' in': -0.23983036, ' for': -3.0415556, '.': -3.055794}\n",
      "{' the': -0.45761937, ' America': -1.0902431, ' Michigan': -4.70593}\n",
      "{'.': -0.76887864, ',': -1.3212144, '\\n': -2.5920274}\n",
      "{'\\n': -1.1293881, ' The': -2.3599255, ' It': -3.0682452}\n",
      "{'The': -1.9391508, 'Mich': -2.707284, 'L': -2.7858906}\n",
      "{' capital': -2.0821187, ' city': -2.3217533, ' F': -2.7388074}\n"
     ]
    }
   ],
   "source": [
    "# Let's now constrain the set of choices the model can consider by setting top_p\n",
    "# to a very low number. By default it's 0.95, but if we constrain it to 0.01\n",
    "# we should be able to get a small set of high quality options.\n",
    "result: Completion = model.create_completion(\n",
    "    prompt=\"The capital of Michigan is \",\n",
    "    logprobs=3,\n",
    "    max_tokens=16,\n",
    "    temperature=0.7,\n",
    "    top_p=0.01,\n",
    ")\n",
    "\n",
    "details: CompletionLogprobs = result[\"choices\"][0][\"logprobs\"]\n",
    "\n",
    "# Here we can look at the list of tokens, their probabilities, and their offset\n",
    "# in the prompt+response\n",
    "print(details[\"tokens\"])\n",
    "print()  # little whitespace to see better\n",
    "\n",
    "# iterate through results\n",
    "for token_choice in details[\"top_logprobs\"]:\n",
    "    print(token_choice)"
   ]
  },
  {
   "cell_type": "markdown",
   "metadata": {},
   "source": [
    "The result of such a small `top_p` is that the candidate set of choices is very small, though not all of the choices are\n",
    "good ones. Since this is a smaller set of choices, and the probability of any given choice in the set can vary wildly,\n",
    "depending on the pretraining of the model. However, the tokens in the candidate set are reweighted as they are the only\n",
    "options, and the temperature then determines how likely an given candidate will be chosen.\n",
    "\n",
    "Now, all of this is a bit of an oversimplification, and there are several more parameters some of which you can tune,\n",
    "such as the `typical_p`, `min_p`, and so forth. If you're interested more in how these generative models choose a given\n",
    "response, from a statistics and deep learning lens, I'd encourage you to check out paper by Holtzman et al. that I've\n",
    "put in the optional readings for this week, or read more on topics such as nucleus sampling, top_k sampling, and beam\n",
    "search.\n"
   ]
  }
 ],
 "metadata": {
  "kernelspec": {
   "display_name": "Python 3",
   "language": "python",
   "name": "python3"
  },
  "language_info": {
   "codemirror_mode": {
    "name": "ipython",
    "version": 3
   },
   "file_extension": ".py",
   "mimetype": "text/x-python",
   "name": "python",
   "nbconvert_exporter": "python",
   "pygments_lexer": "ipython3",
   "version": "3.10.12"
  }
 },
 "nbformat": 4,
 "nbformat_minor": 2
}
